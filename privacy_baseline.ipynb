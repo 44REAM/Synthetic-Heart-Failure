{
 "cells": [
  {
   "cell_type": "code",
   "execution_count": 1,
   "id": "35fe19a8",
   "metadata": {},
   "outputs": [
    {
     "name": "stdout",
     "output_type": "stream",
     "text": [
      "[KeOps] Warning : No C++ compiler found. Define CXX environment variable or install g++.\n",
      "[KeOps] Warning : No C++ compiler found. You need to either define the CXX environment variable pointing to a valid compiler, or ensure that 'g++' is installed and in your PATH.\n",
      "[KeOps] Warning : CUDA libraries not found or could not be loaded; Switching to CPU only.\n",
      "[KeOps] Warning : No C++ compiler found. You need to either define the CXX environment variable pointing to a valid compiler, or ensure that 'g++' is installed and in your PATH.\n",
      "[KeOps] Warning : No C++ compiler available to check for OpenMP support.\n",
      "[KeOps] Warning : OpenMP support is not available. Disabling OpenMP.\n"
     ]
    }
   ],
   "source": [
    "import pandas as pd\n",
    "import json\n",
    "import yaml\n",
    "import numpy as np\n",
    "import matplotlib.pyplot as plt\n",
    "from sklearn.impute import SimpleImputer\n",
    "from sklearn.preprocessing import StandardScaler\n",
    "import config\n",
    "\n",
    "from preprocess.impute import impute_data\n",
    "\n",
    "import torch \n",
    "\n",
    "\n",
    "from itertools import product\n",
    "from pathlib import Path\n",
    "\n",
    "from sdmetrics.reports.single_table import QualityReport\n",
    "from sdmetrics.reports.single_table import DiagnosticReport\n",
    "from sdmetrics.single_table import DCRBaselineProtection, DCROverfittingProtection\n",
    "from sdmetrics.single_column import KSComplement, TVComplement\n",
    "from sdv.metadata import SingleTableMetadata\n",
    "\n",
    "\n",
    "from synthcity.metrics.eval_statistical import KolmogorovSmirnovTest, InverseKLDivergence, SurvivalKMDistance\n",
    "from synthcity.metrics.eval_privacy import DomiasMIAPrior, kAnonymization, kMap, DeltaPresence\n",
    "from synthcity.plugins.core.dataloader import GenericDataLoader, SurvivalAnalysisDataLoader\n",
    "\n",
    "from syntheval.metrics.privacy.metric_nn_adversarial_accuracy import NearestNeighbourAdversarialAccuracy\n",
    "from syntheval.metrics.privacy.metric_MIA_classification import MIAClassifier\n",
    "from sklearn.model_selection import KFold\n",
    "import seaborn as sns\n",
    "from scipy.stats import ks_2samp\n",
    "\n",
    "# synthcity absolute\n",
    "from evaluate import DataLeakageLinear, DataLeakageXGB, exact_match, membership_inference, NearestNeighbourAdversarialAccuracy\n",
    "from skimage.exposure import match_histograms"
   ]
  },
  {
   "cell_type": "code",
   "execution_count": null,
   "id": "c1778ae7",
   "metadata": {},
   "outputs": [],
   "source": [
    "with open(config.COLUMNS_CLASS, 'r') as yaml_file:\n",
    "    column_class = yaml.load(yaml_file, Loader=yaml.FullLoader)\n",
    "\n",
    "\n",
    "impute_method = 'mice'\n",
    "data_impute_method = 'add_missing'\n",
    "apply_histogram_equalize = False\n",
    "real_baseline_df = pd.read_parquet(config.BASELINE_COMBINE_FILE).reset_index()\n",
    "\n",
    "cgan_df = pd.read_csv(config.CGAN_SYNTHETIC_BASELINE + data_impute_method + '.csv')\n",
    "survadgan_df =  pd.read_csv(config.SURVADGAN_SYNTHETIC_BASELINE + data_impute_method + '.csv')\n",
    "tvae_df = pd.read_csv(config.TVAE_SYNTHETIC_BASELINE + data_impute_method + '.csv')\n",
    "adgan_df = pd.read_csv(config.ADGAN_SYNTHETIC_BASELINE + data_impute_method + '.csv')\n",
    "ddpm_df = pd.read_csv(config.DDPM_SYNTHETIC_BASELINE + data_impute_method + '.csv')\n",
    "nflow_df = pd.read_csv(config.NFLOW_SYNTHETIC_BASELINE + data_impute_method + '.csv')\n",
    "\n",
    "real_train_idx = np.load(config.INDEX_TRAIN )\n",
    "real_val_idx = np.load(config.INDEX_VAL)\n",
    "real_test_idx = np.load(config.INDEX_TEST )\n",
    "\n",
    "survadgan_train_idx = np.load(config.SURVADGAN_INDEX_TRAIN+ data_impute_method + '.npy')\n",
    "survadgan_val_idx = np.load(config.SURVADGAN_INDEX_VAL+ data_impute_method + '.npy')\n",
    "survadgan_test_idx = np.load(config.SURVADGAN_INDEX_TEST+ data_impute_method + '.npy')\n",
    "\n",
    "cgan_train_idx = np.load(config.CGAN_INDEX_TRAIN+ data_impute_method + '.npy')\n",
    "cgan_val_idx = np.load(config.CGAN_INDEX_VAL+ data_impute_method + '.npy')\n",
    "cgan_test_idx = np.load(config.CGAN_INDEX_TEST+ data_impute_method + '.npy')\n",
    "\n",
    "tvae_train_idx = np.load(config.TVAE_INDEX_TRAIN+ data_impute_method + '.npy')\n",
    "tvae_val_idx = np.load(config.TVAE_INDEX_VAL+ data_impute_method + '.npy')\n",
    "tvae_test_idx = np.load(config.TVAE_INDEX_TEST+ data_impute_method + '.npy')\n",
    "\n",
    "adgan_train_idx = np.load(config.ADGAN_INDEX_TRAIN+ data_impute_method + '.npy')\n",
    "adgan_val_idx = np.load(config.ADGAN_INDEX_VAL+ data_impute_method + '.npy')\n",
    "adgan_test_idx = np.load(config.ADGAN_INDEX_TEST+ data_impute_method + '.npy')\n",
    "\n",
    "ddpm_train_idx = np.load(config.DDPM_INDEX_TRAIN+ data_impute_method + '.npy')\n",
    "ddpm_val_idx = np.load(config.DDPM_INDEX_VAL+ data_impute_method + '.npy')\n",
    "ddpm_test_idx = np.load(config.DDPM_INDEX_TEST+ data_impute_method + '.npy')\n",
    "\n",
    "nflow_train_idx = np.load(config.NFLOW_INDEX_TRAIN+ data_impute_method + '.npy')\n",
    "nflow_val_idx = np.load(config.NFLOW_INDEX_VAL+ data_impute_method + '.npy')\n",
    "nflow_test_idx = np.load(config.NFLOW_INDEX_TEST+ data_impute_method + '.npy')\n",
    "\n",
    "\n",
    "\n",
    "\n",
    "\n",
    "#process to make columns match\n",
    "cgan_df.columns = [col.replace('_1', '') for col in cgan_df.columns]\n",
    "tvae_df.columns = [col.replace('_1', '') for col in tvae_df.columns]\n",
    "survadgan_df.columns = [col.replace('_1', '') for col in survadgan_df.columns]\n",
    "adgan_df.columns = [col.replace('_1', '') for col in adgan_df.columns]\n",
    "ddpm_df.columns = [col.replace('_1', '') for col in ddpm_df.columns]\n",
    "nflow_df.columns = [col.replace('_1', '') for col in nflow_df.columns]\n",
    "\n",
    "adgan_df = impute_data(adgan_df, adgan_train_idx, adgan_val_idx, adgan_test_idx, method=impute_method)\n",
    "cgan_df = impute_data(cgan_df, cgan_train_idx, cgan_val_idx, cgan_test_idx, method=impute_method)\n",
    "survadgan_df = impute_data(survadgan_df, survadgan_train_idx, survadgan_val_idx, survadgan_test_idx, method=impute_method)\n",
    "tvae_df = impute_data(tvae_df, tvae_train_idx, tvae_val_idx, tvae_test_idx, method=impute_method)\n",
    "ddpm_df = impute_data(ddpm_df, ddpm_train_idx, ddpm_val_idx, ddpm_test_idx, method=impute_method)\n",
    "nflow_df = impute_data(nflow_df, nflow_train_idx, nflow_val_idx, nflow_test_idx, method=impute_method)\n",
    "\n",
    "real_baseline_df = real_baseline_df.set_index('ENC_HN')\n",
    "real_baseline_df = impute_data(real_baseline_df, real_train_idx, real_val_idx, real_test_idx, method = impute_method)\n",
    "real_baseline_df = real_baseline_df.reset_index()\n",
    "real_baseline_df['dead'] = real_baseline_df['dead'].astype(int)\n",
    "real_baseline_df = real_baseline_df.drop(columns=['admit'], errors='ignore')\n",
    "\n",
    "column_order = real_baseline_df.columns.tolist()\n",
    "adgan_df = adgan_df[column_order].set_index('ENC_HN')\n",
    "cgan_df = cgan_df[column_order].set_index('ENC_HN')\n",
    "survadgan_df = survadgan_df[column_order].set_index('ENC_HN')\n",
    "tvae_df = tvae_df[column_order].set_index('ENC_HN')\n",
    "ddpm_df = ddpm_df[column_order].set_index('ENC_HN')\n",
    "nflow_df = nflow_df[column_order].set_index('ENC_HN')\n",
    "real_baseline_df = real_baseline_df[column_order].set_index('ENC_HN')\n",
    "\n",
    "adgan_df['dead'] = adgan_df['dead'].astype(int)\n",
    "cgan_df['dead'] = cgan_df['dead'].astype(int)\n",
    "survadgan_df['dead'] = survadgan_df['dead'].astype(int)\n",
    "tvae_df['dead'] = tvae_df['dead'].astype(int)\n",
    "ddpm_df['dead'] = ddpm_df['dead'].astype(int)\n",
    "nflow_df['dead'] = nflow_df['dead'].astype(int)\n",
    "\n",
    "if apply_histogram_equalize:\n",
    "    use_index = np.concatenate([real_train_idx, real_val_idx])\n",
    "\n",
    "    adgan_df['Days'] = match_histograms(adgan_df['Days'].to_numpy(), real_baseline_df['Days'][use_index].to_numpy())\n",
    "    cgan_df['Days'] = match_histograms(cgan_df['Days'].to_numpy(), real_baseline_df['Days'][use_index].to_numpy())\n",
    "    survadgan_df['Days'] = match_histograms(survadgan_df['Days'].to_numpy(), real_baseline_df['Days'][use_index].to_numpy())\n",
    "    tvae_df['Days'] = match_histograms(tvae_df['Days'].to_numpy(), real_baseline_df['Days'][use_index].to_numpy())\n",
    "    ddpm_df['Days'] = match_histograms(ddpm_df['Days'].to_numpy(), real_baseline_df['Days'][use_index].to_numpy())\n",
    "    nflow_df['Days'] = match_histograms(nflow_df['Days'].to_numpy(), real_baseline_df['Days'][use_index].to_numpy())\n",
    "\n",
    "\n",
    "real = GenericDataLoader(real_baseline_df, target_column=\"dead\", time_to_event_column = 'Days')\n",
    "cgan = GenericDataLoader(cgan_df, target_column=\"dead\", time_to_event_column = 'Days')\n",
    "tvae = GenericDataLoader(tvae_df, target_column=\"dead\", time_to_event_column = 'Days')\n",
    "survadgan = GenericDataLoader(survadgan_df, target_column=\"dead\", time_to_event_column = 'Days')\n",
    "adgan = GenericDataLoader(adgan_df, target_column=\"dead\", time_to_event_column = 'Days')\n",
    "ddpm = GenericDataLoader(ddpm_df, target_column=\"dead\", time_to_event_column = 'Days')\n",
    "nflow = GenericDataLoader(nflow_df, target_column=\"dead\", time_to_event_column = 'Days')\n",
    "\n",
    "real_train_idx = np.concatenate([real_train_idx, real_val_idx])"
   ]
  },
  {
   "cell_type": "code",
   "execution_count": 3,
   "id": "ff034952",
   "metadata": {},
   "outputs": [],
   "source": [
    "def prepare_sdv(df):\n",
    "    metadata = SingleTableMetadata()\n",
    "    metadata.detect_from_dataframe(data=df)\n",
    "    return df, metadata\n",
    "\n",
    "datasets = {\n",
    "    'TVAE': tvae_df,\n",
    "    'SurvicalAdGAN': survadgan_df,\n",
    "    'ADSGAN': adgan_df,\n",
    "    # 'CTGAN': cgan_df,\n",
    "    'DDPM': ddpm_df,\n",
    "    'NFlow': nflow_df\n",
    "}\n",
    "\n",
    "\n"
   ]
  },
  {
   "cell_type": "markdown",
   "id": "b2aba817",
   "metadata": {},
   "source": [
    "### Membership inference"
   ]
  },
  {
   "cell_type": "code",
   "execution_count": 4,
   "id": "cb5c8e9f",
   "metadata": {},
   "outputs": [
    {
     "name": "stdout",
     "output_type": "stream",
     "text": [
      "Threshold for membership inference: 0.25339610662201706, min: 0.1867480696580879, max: 2.2918881037324996\n",
      "Threshold for membership inference: 0.24654745942607903, min: 0.17748376188343173, max: 2.376296646743714\n",
      "Threshold for membership inference: 0.23322751645492634, min: 0.17745494586900706, max: 2.3002320698836116\n",
      "Threshold for membership inference: 0.24168552252068692, min: 0.1284353829636191, max: 2.287897730019802\n",
      "Threshold for membership inference: 0.2908520465205538, min: 0.1516015345008695, max: 1.9500324616895972\n",
      "Threshold for membership inference: 0.283485867093262, min: 0.1534380115944476, max: 1.960966206522294\n",
      "Threshold for membership inference: 0.2872587253717827, min: 0.1519571023146024, max: 1.9516631376900937\n",
      "Threshold for membership inference: 0.2831165209502698, min: 0.14882708233506609, max: 1.9528096401347237\n",
      "Threshold for membership inference: 0.2920605468325524, min: 0.21777380516681366, max: 2.1299888560452773\n",
      "Threshold for membership inference: 0.28508310467433107, min: 0.21862296419828997, max: 2.133024067400871\n",
      "Threshold for membership inference: 0.2858850438017241, min: 0.21898609343893116, max: 2.130155363018461\n",
      "Threshold for membership inference: 0.28509219248224943, min: 0.21996830583784083, max: 2.125305490732677\n",
      "Threshold for membership inference: 0.24170319749608468, min: 0.19941451880362063, max: 1.966028436346586\n",
      "Threshold for membership inference: 0.2321258100103752, min: 0.19187992629592018, max: 1.966028436346586\n",
      "Threshold for membership inference: 0.24537418103089964, min: 0.18497226415304527, max: 1.966028436346586\n",
      "Threshold for membership inference: 0.23541026942938373, min: 0.17154206666532232, max: 1.966008582289847\n",
      "Threshold for membership inference: 0.34309564924613584, min: 0.22018863799615718, max: 1.8694584032204427\n",
      "Threshold for membership inference: 0.3335674286929933, min: 0.21740449182670407, max: 1.8804201131737799\n",
      "Threshold for membership inference: 0.34554072527093693, min: 0.2201441082937629, max: 1.9526734633067493\n",
      "Threshold for membership inference: 0.3452695419464535, min: 0.2166550760524695, max: 1.8798600420392733\n"
     ]
    }
   ],
   "source": [
    "datasets = {\n",
    "    'TVAE': tvae_df,\n",
    "    'SurvicalAdGAN': survadgan_df,\n",
    "    'ADSGAN': adgan_df,\n",
    "    # 'CTGAN': cgan_df,\n",
    "    'DDPM': ddpm_df,\n",
    "    'NFlow': nflow_df\n",
    "}\n",
    "kf = KFold(n_splits=4, shuffle=True, random_state=42)\n",
    "mia_results = {}\n",
    "for name, synth_df in datasets.items():\n",
    "    for train_idx, test_idx in kf.split(real_train_idx):\n",
    "        tset_idx = real_train_idx[test_idx]\n",
    "\n",
    "        try:\n",
    "            result = membership_inference(real_baseline_df.loc[tset_idx],\n",
    "                                real_baseline_df.loc[real_test_idx],\n",
    "                                synth_df, synth_df.columns.tolist(), percentile_threshold=0.5)\n",
    "            # append results\n",
    "            if name not in mia_results:\n",
    "                mia_results[name] = []\n",
    "            mia_results[name].append(result)\n",
    "\n",
    "        except Exception as e:\n",
    "            print(f\"Failed for {name}: {e}\")\n",
    "# Convert results to DataFrame\n",
    "mia_results = {name: pd.DataFrame(res) for name, res in mia_results.items()}\n",
    "mia_results = {name: res.mean().to_dict() for name, res in mia_results.items()}\n",
    "mia_results = pd.DataFrame(mia_results).T"
   ]
  },
  {
   "cell_type": "markdown",
   "id": "56ba8ab9",
   "metadata": {},
   "source": [
    "### NNAA"
   ]
  },
  {
   "cell_type": "code",
   "execution_count": 5,
   "id": "ecd3fc6b",
   "metadata": {},
   "outputs": [],
   "source": [
    "\n",
    "datasets = {\n",
    "    'TVAE': tvae_df,\n",
    "    'SurvicalAdGAN': survadgan_df,\n",
    "    'ADSGAN': adgan_df,\n",
    "    # 'CTGAN': cgan_df,\n",
    "    'DDPM': ddpm_df,\n",
    "    'NFlow': nflow_df\n",
    "}\n",
    "\n",
    "results = {}\n",
    "for name, synth_df in datasets.items():\n",
    "\n",
    "\n",
    "\n",
    "    evaluator = NearestNeighbourAdversarialAccuracy(\n",
    "        real_baseline_df.loc[real_train_idx],\n",
    "        synth_df,\n",
    "        hout_data=real_baseline_df.loc[real_test_idx],\n",
    "        cat_cols=[col for col in column_class['discrete'] if col in synth_df.columns],\n",
    "        num_cols=column_class['continuous'], nn_dist='euclid')\n",
    "    result = evaluator.evaluate()['priv_loss']\n",
    "    results.setdefault(name, []).append(result)\n",
    "nnaa_results = pd.DataFrame(results).T.mean(axis=1).to_frame(name='NNAA').T"
   ]
  },
  {
   "cell_type": "code",
   "execution_count": 6,
   "id": "c61e4adc",
   "metadata": {},
   "outputs": [
    {
     "data": {
      "application/vnd.microsoft.datawrangler.viewer.v0+json": {
       "columns": [
        {
         "name": "index",
         "rawType": "object",
         "type": "string"
        },
        {
         "name": "TVAE",
         "rawType": "float64",
         "type": "float"
        },
        {
         "name": "SurvicalAdGAN",
         "rawType": "float64",
         "type": "float"
        },
        {
         "name": "ADSGAN",
         "rawType": "float64",
         "type": "float"
        },
        {
         "name": "DDPM",
         "rawType": "float64",
         "type": "float"
        },
        {
         "name": "NFlow",
         "rawType": "float64",
         "type": "float"
        }
       ],
       "ref": "9f0285e3-4997-48aa-9acb-e7da037f5544",
       "rows": [
        [
         "NNAA",
         "0.0070394734832904815",
         "1.8401257353639622e-05",
         "-0.004849977695986385",
         "0.012333262774357312",
         "-0.009633713641850061"
        ]
       ],
       "shape": {
        "columns": 5,
        "rows": 1
       }
      },
      "text/html": [
       "<div>\n",
       "<style scoped>\n",
       "    .dataframe tbody tr th:only-of-type {\n",
       "        vertical-align: middle;\n",
       "    }\n",
       "\n",
       "    .dataframe tbody tr th {\n",
       "        vertical-align: top;\n",
       "    }\n",
       "\n",
       "    .dataframe thead th {\n",
       "        text-align: right;\n",
       "    }\n",
       "</style>\n",
       "<table border=\"1\" class=\"dataframe\">\n",
       "  <thead>\n",
       "    <tr style=\"text-align: right;\">\n",
       "      <th></th>\n",
       "      <th>TVAE</th>\n",
       "      <th>SurvicalAdGAN</th>\n",
       "      <th>ADSGAN</th>\n",
       "      <th>DDPM</th>\n",
       "      <th>NFlow</th>\n",
       "    </tr>\n",
       "  </thead>\n",
       "  <tbody>\n",
       "    <tr>\n",
       "      <th>NNAA</th>\n",
       "      <td>0.007039</td>\n",
       "      <td>0.000018</td>\n",
       "      <td>-0.00485</td>\n",
       "      <td>0.012333</td>\n",
       "      <td>-0.009634</td>\n",
       "    </tr>\n",
       "  </tbody>\n",
       "</table>\n",
       "</div>"
      ],
      "text/plain": [
       "          TVAE  SurvicalAdGAN   ADSGAN      DDPM     NFlow\n",
       "NNAA  0.007039       0.000018 -0.00485  0.012333 -0.009634"
      ]
     },
     "execution_count": 6,
     "metadata": {},
     "output_type": "execute_result"
    }
   ],
   "source": [
    "nnaa_results"
   ]
  },
  {
   "cell_type": "markdown",
   "id": "b6cdec6e",
   "metadata": {},
   "source": [
    "### Attribute inference"
   ]
  },
  {
   "cell_type": "code",
   "execution_count": 7,
   "id": "a2facc24",
   "metadata": {},
   "outputs": [
    {
     "name": "stdout",
     "output_type": "stream",
     "text": [
      "Average DataLeakageLinear for TVAE: [0.510909432559009, 0.5130745768357917, 0.5122072944080933, 0.512303613622577, 0.510539951741288]\n",
      "Average DataLeakageXGB for TVAE: [0.5148245352722909, 0.5170378649098596, 0.516363284575169, 0.5157819058364934, 0.5166009997042079]\n",
      "Average DataLeakageLinear for SurvicalAdGAN: [0.5031638299240276, 0.5032248523867799, 0.5025824911753275, 0.5028361856586261, 0.5044970166777859]\n",
      "Average DataLeakageXGB for SurvicalAdGAN: [0.5010751023309395, 0.5002720076525125, 0.49980621113942564, 0.4990448208864398, 0.5005386492901894]\n",
      "Average DataLeakageLinear for ADSGAN: [0.5009023437184554, 0.5005971888553601, 0.503677958961009, 0.5004140424469119, 0.5021840790501714]\n",
      "Average DataLeakageXGB for ADSGAN: [0.49810367025618796, 0.49713993744688734, 0.49950437224507577, 0.4977374756546709, 0.5004005805415724]\n",
      "Average DataLeakageLinear for DDPM: [0.5063153055050696, 0.5055699678679781, 0.5069963709340624, 0.5076484769026776, 0.5056728371204835]\n",
      "Average DataLeakageXGB for DDPM: [0.5188850226602171, 0.518027332068016, 0.5186858607465717, 0.5184513099442922, 0.5181140565677241]\n",
      "Average DataLeakageLinear for NFlow: [0.4717550379503553, 0.4699657172212838, 0.4721279329522009, 0.47303698826817814, 0.46913382656149777]\n",
      "Average DataLeakageXGB for NFlow: [0.47222031427384425, 0.47163861881456504, 0.4724933594262739, 0.47232636768813685, 0.47236156686432856]\n"
     ]
    }
   ],
   "source": [
    "\n",
    "well_known_columns = ['HIGH', 'BW', 'Age', 'Gender']\n",
    "sensitive_features = [col for col in real_baseline_df.columns if col not in well_known_columns]\n",
    "\n",
    "\n",
    "kf = KFold(n_splits=5, shuffle=True, random_state=42)\n",
    "datasets = {\n",
    "    'TVAE': tvae_df,\n",
    "    'SurvicalAdGAN': survadgan_df,\n",
    "    'ADSGAN': adgan_df,\n",
    "    # 'CTGAN': cgan_df,\n",
    "    'DDPM': ddpm_df,\n",
    "    'NFlow': nflow_df\n",
    "}\n",
    "\n",
    "real_generic_train = GenericDataLoader(real_baseline_df.loc[real_train_idx], target_column=\"dead\", time_to_event_column=\"Days\", sensitive_features=sensitive_features)\n",
    "real_generic_test = GenericDataLoader(real_baseline_df.loc[real_test_idx], target_column=\"dead\", time_to_event_column=\"Days\", sensitive_features=sensitive_features)\n",
    "\n",
    "metrics = {\n",
    "    'DataLeakageLinear': DataLeakageLinear(use_cache=False),\n",
    "    'DataLeakageXGB': DataLeakageXGB(use_cache=False),\n",
    "}\n",
    "results = {}\n",
    "for name, df in datasets.items():\n",
    "    for fold, (train_index, test_index) in enumerate(kf.split(df)):\n",
    "        \n",
    "        df_test = df.loc[df.index[test_index]]\n",
    "        loader = GenericDataLoader(\n",
    "            df_test,\n",
    "            target_column=\"dead\",\n",
    "            time_to_event_column=\"Days\",\n",
    "            sensitive_features=sensitive_features\n",
    "        )\n",
    "        for metric_name, metric in metrics.items():\n",
    "            try:\n",
    "                score = metric.evaluate(real_generic_train, loader)\n",
    "\n",
    "                results.setdefault(name, {}).setdefault(metric_name, []).append(score['mean'])\n",
    "            except Exception as e:\n",
    "                print(f\"Error in {name} with {metric_name}: {e}\")\n",
    "                results.setdefault(name, {}).setdefault(metric_name, []).append(f\"Error: {e}\")\n",
    "    # average the results across folds\n",
    "    for metric_name in metrics.keys():\n",
    "        if metric_name in results[name]:\n",
    "            print(f\"Average {metric_name} for {name}: {results[name][metric_name]}\")\n",
    "            results[name][metric_name] = np.mean(results[name][metric_name])\n",
    "\n",
    "for metric_name, metric in metrics.items():\n",
    "    score = metric.evaluate(real_generic_train, real_generic_test)\n",
    "    results.setdefault('Real', {}).setdefault(metric_name, []).append(score['mean'])\n",
    "\n",
    "results['Real'] = {metric_name: np.mean(scores) for metric_name, scores in results['Real'].items()}\n",
    "results = pd.DataFrame(results).T"
   ]
  },
  {
   "cell_type": "code",
   "execution_count": 8,
   "id": "025728f2",
   "metadata": {},
   "outputs": [],
   "source": [
    "priv1 = pd.DataFrame(results).T\n",
    "\n",
    "\n",
    "combined = pd.concat([priv1, nnaa_results, mia_results.T], axis=0, sort=False).round(3)\n",
    "combined.to_excel(\"results/privacy_report.xlsx\")"
   ]
  },
  {
   "cell_type": "markdown",
   "id": "d72dce15",
   "metadata": {},
   "source": [
    "### Exact match"
   ]
  },
  {
   "cell_type": "code",
   "execution_count": 9,
   "id": "b49a51d1",
   "metadata": {},
   "outputs": [
    {
     "name": "stdout",
     "output_type": "stream",
     "text": [
      "0\n",
      "0\n",
      "0\n",
      "0\n",
      "0\n"
     ]
    }
   ],
   "source": [
    "datasets = {\n",
    "    'TVAE': tvae_df,\n",
    "    'SurvicalAdGAN': survadgan_df,\n",
    "    'ADSGAN': adgan_df,\n",
    "    # 'CTGAN': cgan_df,\n",
    "    'DDPM': ddpm_df,\n",
    "    'NFlow': nflow_df\n",
    "}\n",
    "\n",
    "\n",
    "\n",
    "for name, df in datasets.items():\n",
    "    print(exact_match(real_baseline_df, df, chunk_size=2000, rtol=5e-2))"
   ]
  },
  {
   "cell_type": "code",
   "execution_count": null,
   "id": "77fa0ef6",
   "metadata": {},
   "outputs": [],
   "source": []
  }
 ],
 "metadata": {
  "kernelspec": {
   "display_name": "dream_s",
   "language": "python",
   "name": "python3"
  },
  "language_info": {
   "codemirror_mode": {
    "name": "ipython",
    "version": 3
   },
   "file_extension": ".py",
   "mimetype": "text/x-python",
   "name": "python",
   "nbconvert_exporter": "python",
   "pygments_lexer": "ipython3",
   "version": "3.11.10"
  }
 },
 "nbformat": 4,
 "nbformat_minor": 5
}
